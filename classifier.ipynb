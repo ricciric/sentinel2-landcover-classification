{
 "cells": [
  {
   "cell_type": "markdown",
   "id": "e677abdf",
   "metadata": {},
   "source": [
    "***Image pre-processing (True Color, False Color, NDVI)***"
   ]
  },
  {
   "cell_type": "code",
   "execution_count": null,
   "id": "872fe7a8",
   "metadata": {},
   "outputs": [],
   "source": [
    "# Creation of NDVI Image\n",
    "import numpy as np\n",
    "from PIL import Image\n",
    "\n",
    "# Import images as numpy arrays\n",
    "b04_img = Image.open('images/b04.jpg')\n",
    "b08_img = Image.open('images/b08.jpg')\n",
    "\n",
    "b04_array = np.array(b04_img)\n",
    "b08_array = np.array(b08_img)\n",
    "\n",
    "# Normalize the arrays to float32\n",
    "b04_array = b04_array.astype(np.float32) / 255.0\n",
    "b08_array = b08_array.astype(np.float32) / 255.0\n",
    "\n",
    "# Calculate NDVI\n",
    "ndvi = (b08_array - b04_array) / (b08_array + b04_array)\n",
    "\n",
    "# Map NDVI values to 0-255 for visualization\n",
    "ndvi_mapped = (((ndvi + 1) / 2)* 255).astype(np.uint8)\n",
    "\n",
    "# Create RGB array (ndvi, ndvi, ndvi)\n",
    "ndvi_rgb = np.stack((ndvi_mapped, ndvi_mapped, ndvi_mapped), axis=-1)\n",
    "\n",
    "# Convert to PIL Image\n",
    "ndvi_image = Image.fromarray(ndvi_rgb)\n",
    "\n",
    "# Convert into 512x512\n",
    "ndvi_image = ndvi_image.resize((512, 512), Image.LANCZOS)\n",
    "\n",
    "# Save the NDVI image\n",
    "ndvi_image.save('images/ndvi.jpg')\n"
   ]
  },
  {
   "cell_type": "markdown",
   "id": "d0a59a07",
   "metadata": {},
   "source": [
    "***Model import***"
   ]
  },
  {
   "cell_type": "code",
   "execution_count": null,
   "id": "4aa785aa",
   "metadata": {},
   "outputs": [],
   "source": [
    "from diffusers import ControlNetModel, StableDiffusionControlNetPipeline\n",
    "\n",
    "controlnet = ControlNetModel.from_pretrained(\"mespinosami/sen12mscr-sd-1_5\")\n",
    "pipe = StableDiffusionControlNetPipeline.from_pretrained(\n",
    "\t\"runwayml/stable-diffusion-v1-5\", controlnet=controlnet\n",
    ")\n",
    "\n",
    "print(controlnet)\n"
   ]
  },
  {
   "cell_type": "markdown",
   "id": "f9095d9c",
   "metadata": {},
   "source": [
    "***Input images*** \n",
    "Pre processing of all the three different images and input in the model without touching the layers"
   ]
  },
  {
   "cell_type": "code",
   "execution_count": 11,
   "id": "04763a23",
   "metadata": {},
   "outputs": [
    {
     "name": "stdout",
     "output_type": "stream",
     "text": [
      "True Color Image Size: (512, 512)\n",
      "False Color Image Size: (512, 512)\n",
      "NDVI Image Size: (512, 512)\n",
      "True Color Image Mode: RGB\n",
      "False Color Image Mode: RGB\n",
      "NDVI Image Mode: RGB\n"
     ]
    },
    {
     "data": {
      "application/vnd.jupyter.widget-view+json": {
       "model_id": "6130c2644f2e46ff940a9f45ca0f3bbf",
       "version_major": 2,
       "version_minor": 0
      },
      "text/plain": [
       "  0%|          | 0/50 [00:00<?, ?it/s]"
      ]
     },
     "metadata": {},
     "output_type": "display_data"
    }
   ],
   "source": [
    "true_color = Image.open('images/true_color.jpg')\n",
    "false_color = Image.open('images/false_color.jpg')\n",
    "ndvi_image = Image.open('images/ndvi.jpg')\n",
    "\n",
    "# Convert into 512x512\n",
    "true_color = true_color.resize((512, 512), Image.LANCZOS)\n",
    "false_color = false_color.resize((512, 512), Image.LANCZOS)\n",
    "\n",
    "\n",
    "# Print the sizes of the images\n",
    "print(f\"True Color Image Size: {true_color.size}\")\n",
    "print(f\"False Color Image Size: {false_color.size}\")\n",
    "print(f\"NDVI Image Size: {ndvi_image.size}\")\n",
    "\n",
    "# Print mode checks\n",
    "print(f\"True Color Image Mode: {true_color.mode}\")\n",
    "print(f\"False Color Image Mode: {false_color.mode}\")\n",
    "print(f\"NDVI Image Mode: {ndvi_image.mode}\")\n",
    "\n",
    "# Pipeline execution\n",
    "prompt = 'a satellite view of some agricultural fields, in high-resolution, top-down view, near Rome'\n",
    "controlnet_image = 'true_color'  # Options: 'true_color', 'false_color', 'ndvi'\n",
    "\n",
    "output = pipe(\n",
    "    prompt=prompt,\n",
    "    image=ndvi_image,\n",
    "    num_inference_steps=50\n",
    ")\n",
    "\n",
    "output_image = output.images[0]\n",
    "# Save the output image\n",
    "output_image.save(f'images/output_image' + '_ndvi_image' + '.jpg')\n"
   ]
  }
 ],
 "metadata": {
  "kernelspec": {
   "display_name": "tesi",
   "language": "python",
   "name": "python3"
  },
  "language_info": {
   "codemirror_mode": {
    "name": "ipython",
    "version": 3
   },
   "file_extension": ".py",
   "mimetype": "text/x-python",
   "name": "python",
   "nbconvert_exporter": "python",
   "pygments_lexer": "ipython3",
   "version": "3.9.20"
  }
 },
 "nbformat": 4,
 "nbformat_minor": 5
}
